{
 "cells": [
  {
   "cell_type": "code",
   "execution_count": null,
   "metadata": {},
   "outputs": [],
   "source": [
    "# 下載參考網址：https://medium.com/%E6%9F%BF%E7%94%9C%E8%8C%B6%E9%A6%99/colab-conda-basemap-2da803ed4744\n",
    "from mpl_toolkits.basemap import Basemap\n",
    "import matplotlib.pyplot as plt\n",
    "import numpy as np\n",
    "\n",
    "# 創建基本地圖。\n",
    "# 當 \"projection\" 參數為“ortho\"時，所得圖位地球儀截面\n",
    "#設定圖形大小\n",
    "plt.figure(figsize=(5,5))\n",
    "\n",
    "#設定投影型態\n",
    "m=Basemap(projection='ortho',resolution=None,lat_0=50,lon_0=-100)\n",
    "\n",
    "#設定圖形顏色, 選用NASA 寶石藍輸出 \n",
    "m.bluemarble(scale=0.5)\n",
    "\n",
    "#秀圖\n",
    "plt.show()"
   ]
  },
  {
   "cell_type": "code",
   "execution_count": null,
   "metadata": {},
   "outputs": [],
   "source": [
    "#設置Lambert保形底圖。\n",
    "# width=12000000,height=9000000\n",
    "#經緯度lat_1=45.,lat_2=55,lat_0=50,lon_0=-107\n",
    "#set resolution = None跳過邊界數據集的處理\n",
    "# projection='lcc'\n",
    "\n",
    "m = Basemap(width=12000000,height=9000000,projection='lcc', resolution=None,lat_1=45.,lat_2=55,lat_0=50,lon_0=-107.)\n",
    "\n",
    "#選用NASA 寶石藍輸出 \n",
    "m.bluemarble()\n",
    "\n",
    "#秀圖\n",
    "plt.show()"
   ]
  },
  {
   "cell_type": "code",
   "execution_count": null,
   "metadata": {},
   "outputs": [],
   "source": [
    "#  \"projection\" 參數為“Mill\"\n",
    "# 設定經緯座標\n",
    "# 左下角的緯度 - llcrnrlat = -90,\n",
    "# 左下角的經度 - llcrnrlon = -180,\n",
    "# 右上角的緯度 - urcrnrlat = 90,\n",
    "# 右上角的經度 -urcrnrlon = 180\n",
    "\n",
    "m = Basemap(projection='mill', llcrnrlat = -90, llcrnrlon = -180, urcrnrlat = 90, urcrnrlon = 180, resolution='c')\n",
    "\n",
    "m.drawcoastlines()\n",
    "m.drawcountries(linewidth=2)\n",
    "m.drawstates(color='b')\n",
    "m.drawcounties(color='red')\n",
    "\n",
    "#選用NASA 寶石藍輸出 \n",
    "m.bluemarble(scale=0.5)\n",
    "\n",
    "plt.title('Basemap Tutorial')\n",
    "#秀圖\n",
    "plt.show()"
   ]
  },
  {
   "cell_type": "code",
   "execution_count": null,
   "metadata": {},
   "outputs": [],
   "source": []
  }
 ],
 "metadata": {
  "kernelspec": {
   "display_name": "Python 3",
   "language": "python",
   "name": "python3"
  },
  "language_info": {
   "codemirror_mode": {
    "name": "ipython",
    "version": 3
   },
   "file_extension": ".py",
   "mimetype": "text/x-python",
   "name": "python",
   "nbconvert_exporter": "python",
   "pygments_lexer": "ipython3",
   "version": "3.8.5"
  }
 },
 "nbformat": 4,
 "nbformat_minor": 4
}
