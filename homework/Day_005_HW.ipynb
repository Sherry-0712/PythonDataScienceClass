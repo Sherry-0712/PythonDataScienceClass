{
 "cells": [
  {
   "cell_type": "code",
   "execution_count": 2,
   "metadata": {},
   "outputs": [
    {
     "name": "stdout",
     "output_type": "stream",
     "text": [
      "英文平均 67.16666666666667\n",
      "英文最大值 89\n",
      "英文最小值 48\n",
      "英文標準差 13.433995020924426\n",
      "\n",
      "數學平均 66.6\n",
      "數學最大值 85.0\n",
      "數學最小值 60.0\n",
      "數學標準差 9.707728879609279\n",
      "\n",
      "國文平均 75.33333333333333\n",
      "國文最大值 90\n",
      "國文最小值 65\n",
      "國文標準差 8.825468196582484\n"
     ]
    }
   ],
   "source": [
    "import numpy as np\n",
    "english_score = np.array([55,89,76,65,48,70])\n",
    "math_score = np.array([60,85,60,68,np.nan,60])\n",
    "chinese_score = np.array([65,90,82,72,66,77])\n",
    "\n",
    "#1. 請計算各科成績平均、最大值、最小值、標準差，其中數學缺一筆資料可忽略?\n",
    "Eng_mean = np.mean(english_score)\n",
    "print(\"英文平均\", Eng_mean)\n",
    "Eng_max = np.max(english_score)\n",
    "print(\"英文最大值\", Eng_max)\n",
    "Eng_min = np.min(english_score)\n",
    "print(\"英文最小值\", Eng_min)\n",
    "Eng_std = np.std(english_score)\n",
    "print(\"英文標準差\", Eng_std)\n",
    "\n",
    "Math_mean = np.nanmean(math_score)\n",
    "print(\"\\n數學平均\", Math_mean)\n",
    "Math_max = np.nanmax(math_score)\n",
    "print(\"數學最大值\", Math_max)\n",
    "Math_min = np.nanmin(math_score)\n",
    "print(\"數學最小值\", Math_min)\n",
    "Math_std = np.nanstd(math_score)\n",
    "print(\"數學標準差\", Math_std)\n",
    "\n",
    "Chin_mean = np.mean(chinese_score)\n",
    "print(\"\\n國文平均\", Chin_mean)\n",
    "Chin_max = np.max(chinese_score)\n",
    "print(\"國文最大值\", Chin_max)\n",
    "Chin_min = np.min(chinese_score)\n",
    "print(\"國文最小值\", Chin_min)\n",
    "Chin_std = np.std(chinese_score)\n",
    "print(\"國文標準差\", Chin_std)"
   ]
  },
  {
   "cell_type": "code",
   "execution_count": 3,
   "metadata": {},
   "outputs": [
    {
     "name": "stdout",
     "output_type": "stream",
     "text": [
      "數學平均 64.66666666666667\n",
      "數學最大值 85.0\n",
      "數學最小值 55.0\n",
      "數學標準差 9.860132971832694\n"
     ]
    }
   ],
   "source": [
    "#2. 第五位同學補考數學後成績為55，請計算補考後數學成績平均、最大值、最小值、標準差?\n",
    "math_score[4] = 55\n",
    "Math_mean = np.mean(math_score)\n",
    "print(\"數學平均\", Math_mean)\n",
    "Math_max = np.max(math_score)\n",
    "print(\"數學最大值\", Math_max)\n",
    "Math_min = np.min(math_score)\n",
    "print(\"數學最小值\", Math_min)\n",
    "Math_std = np.std(math_score)\n",
    "print(\"數學標準差\", Math_std)"
   ]
  },
  {
   "cell_type": "code",
   "execution_count": 4,
   "metadata": {},
   "outputs": [
    {
     "name": "stdout",
     "output_type": "stream",
     "text": [
      "英文與國文成績相關係數 [[1.         0.97792828]\n",
      " [0.97792828 1.        ]]\n",
      "數學與國文成績相關係數 [[1.         0.74056803]\n",
      " [0.74056803 1.        ]]\n"
     ]
    }
   ],
   "source": [
    "#3. 用補考後資料找出與國文成績相關係數最高的學科?\n",
    "EC = np.corrcoef(english_score, chinese_score)\n",
    "MC = np.corrcoef(math_score, chinese_score)\n",
    "\n",
    "print(\"英文與國文成績相關係數\", EC)\n",
    "print(\"數學與國文成績相關係數\", MC)"
   ]
  },
  {
   "cell_type": "code",
   "execution_count": null,
   "metadata": {},
   "outputs": [],
   "source": []
  }
 ],
 "metadata": {
  "kernelspec": {
   "display_name": "Python 3",
   "language": "python",
   "name": "python3"
  },
  "language_info": {
   "codemirror_mode": {
    "name": "ipython",
    "version": 3
   },
   "file_extension": ".py",
   "mimetype": "text/x-python",
   "name": "python",
   "nbconvert_exporter": "python",
   "pygments_lexer": "ipython3",
   "version": "3.8.5"
  }
 },
 "nbformat": 4,
 "nbformat_minor": 4
}
