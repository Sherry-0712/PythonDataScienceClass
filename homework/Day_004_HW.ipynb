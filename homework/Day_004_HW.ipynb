{
 "cells": [
  {
   "cell_type": "code",
   "execution_count": 9,
   "metadata": {},
   "outputs": [
    {
     "name": "stdout",
     "output_type": "stream",
     "text": [
      "[False  True  True False False  True]\n",
      "3 位學生英文成績比數學成績高\n"
     ]
    }
   ],
   "source": [
    "import numpy as np\n",
    "english_score = np.array([55,89,76,65,48,70])\n",
    "math_score = np.array([60,85,60,68,55,60])\n",
    "chinese_score = np.array([65,90,82,72,66,77])\n",
    "\n",
    "#1.有多少學生英文成績比數學成績高?\n",
    "count = 0\n",
    "EthanM = np.greater(english_score, math_score)\n",
    "print(EthanM)\n",
    "for item in EthanM.flat:\n",
    "    if item == True:\n",
    "        count+=1\n",
    "print(count, \"位學生英文成績比數學成績高\")"
   ]
  },
  {
   "cell_type": "code",
   "execution_count": 13,
   "metadata": {},
   "outputs": [
    {
     "name": "stdout",
     "output_type": "stream",
     "text": [
      "全班同學最高分都是國文\n"
     ]
    }
   ],
   "source": [
    "#2.是否全班同學最高分都是國文?\n",
    "CthanE = np.greater(chinese_score, english_score)\n",
    "CthanM = np.greater(chinese_score, math_score)\n",
    "tmp = np.logical_and(CthanE, CthanM)\n",
    "if np.all(tmp) == True:\n",
    "    print(\"全班同學最高分都是國文\")\n",
    "else:\n",
    "    print(\"並非全班同學最高分都是國文\")"
   ]
  },
  {
   "cell_type": "code",
   "execution_count": null,
   "metadata": {},
   "outputs": [],
   "source": []
  }
 ],
 "metadata": {
  "kernelspec": {
   "display_name": "Python 3",
   "language": "python",
   "name": "python3"
  },
  "language_info": {
   "codemirror_mode": {
    "name": "ipython",
    "version": 3
   },
   "file_extension": ".py",
   "mimetype": "text/x-python",
   "name": "python",
   "nbconvert_exporter": "python",
   "pygments_lexer": "ipython3",
   "version": "3.8.5"
  }
 },
 "nbformat": 4,
 "nbformat_minor": 4
}
