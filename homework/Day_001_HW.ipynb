{
 "cells": [
  {
   "cell_type": "code",
   "execution_count": 14,
   "metadata": {},
   "outputs": [
    {
     "name": "stdout",
     "output_type": "stream",
     "text": [
      "2 是偶數\n",
      "3 是 3 的倍數\n",
      "4 是偶數\n",
      "6 是偶數\n",
      "6 是 3 的倍數\n",
      "8 是偶數\n",
      "9 是 3 的倍數\n",
      "10 是偶數\n",
      "12 是偶數\n",
      "12 是 3 的倍數\n",
      "14 是偶數\n",
      "15 是 3 的倍數\n",
      "16 是偶數\n",
      "18 是偶數\n",
      "18 是 3 的倍數\n",
      "20 是偶數\n"
     ]
    }
   ],
   "source": [
    "import numpy as np\n",
    "num_array = np.arange(0,21,1)\n",
    "for item in num_array:\n",
    "    if num_array[item] != 0:\n",
    "        if num_array[item]%2==0:\n",
    "            print(num_array[item],\"是偶數\")\n",
    "        if num_array[item]%3==0:\n",
    "            print(num_array[item],\"是 3 的倍數\")"
   ]
  },
  {
   "cell_type": "code",
   "execution_count": null,
   "metadata": {},
   "outputs": [],
   "source": []
  }
 ],
 "metadata": {
  "kernelspec": {
   "display_name": "Python 3",
   "language": "python",
   "name": "python3"
  },
  "language_info": {
   "codemirror_mode": {
    "name": "ipython",
    "version": 3
   },
   "file_extension": ".py",
   "mimetype": "text/x-python",
   "name": "python",
   "nbconvert_exporter": "python",
   "pygments_lexer": "ipython3",
   "version": "3.8.5"
  }
 },
 "nbformat": 4,
 "nbformat_minor": 4
}
